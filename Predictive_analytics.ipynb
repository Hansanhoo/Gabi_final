{
 "cells": [
  {
   "cell_type": "markdown",
   "metadata": {},
   "source": [
    "# Predictive Policing"
   ]
  },
  {
   "cell_type": "code",
   "execution_count": 1,
   "metadata": {},
   "outputs": [
    {
     "name": "stderr",
     "output_type": "stream",
     "text": [
      "Importing plotly failed. Interactive plots will not work.\n"
     ]
    }
   ],
   "source": [
    "from pyspark.sql import SparkSession\n",
    "import pandas as pd\n",
    "import matplotlib.pyplot as plt\n",
    "from pyspark.sql.functions import isnan, when, count, col, sequence, date_format, UserDefinedFunction\n",
    "from datetime import datetime\n",
    "import pandas as pd\n",
    "from pyspark.sql.types import  (StructType, \n",
    "                                StructField, \n",
    "                                DateType, \n",
    "                                BooleanType,\n",
    "                                DoubleType,\n",
    "                                IntegerType,\n",
    "                                StringType,\n",
    "                               TimestampType)\n",
    "from pyspark.ml.feature import VectorAssembler\n",
    "from pyspark.ml.stat import Correlation\n",
    "from pyspark.sql.types import IntegerType\n",
    "import numpy as np\n",
    "import seaborn as sns\n",
    "from pyspark.ml.classification import MultilayerPerceptronClassifier\n",
    "from pyspark.ml.evaluation import MulticlassClassificationEvaluator\n",
    "from pymongo import MongoClient\n",
    "from fbprophet import Prophet\n",
    "from pyspark.sql.functions import current_date\n",
    "import re\n",
    "import json\n",
    "from pyspark.ml.feature import StringIndexer\n",
    "%matplotlib inline\n",
    "plt.style.use('seaborn')"
   ]
  },
  {
   "cell_type": "code",
   "execution_count": 2,
   "metadata": {},
   "outputs": [],
   "source": [
    "conn = MongoClient(\"mongo\", 27017)\n",
    "db = conn.mydb\n",
    "collection_crime = db.chicago_crime\n",
    "collection_crime_clean = db.chicago_crime_cleaned\n",
    "collection_primary_type = db.primary_type\n",
    "collection_location_description = db.location_description\n",
    "collection_description = db.description"
   ]
  },
  {
   "cell_type": "markdown",
   "metadata": {},
   "source": [
    "## Initalize Spark Session"
   ]
  },
  {
   "cell_type": "code",
   "execution_count": 3,
   "metadata": {},
   "outputs": [],
   "source": [
    "spark = SparkSession.\\\n",
    "        builder.\\\n",
    "        appName(\"pysparkapp_prediction\").\\\n",
    "        master(\"spark://spark-master:7077\").\\\n",
    "        config(\"spark.executor.memory\", \"2g\").\\\n",
    "        config(\"spark.jars.packages\", \"org.mongodb.spark:mongo-spark-connector_2.12:3.0.0\").\\\n",
    "        getOrCreate()"
   ]
  },
  {
   "cell_type": "markdown",
   "metadata": {},
   "source": [
    "## Get the cleaned data"
   ]
  },
  {
   "cell_type": "code",
   "execution_count": 4,
   "metadata": {},
   "outputs": [],
   "source": [
    "#read from mongo\n",
    "df_cleaned = spark.read.format(\"mongo\").option(\"uri\",\"mongodb://mongo:27017/mydb.chicago_crime_cleaned\").load()"
   ]
  },
  {
   "cell_type": "code",
   "execution_count": 12,
   "metadata": {},
   "outputs": [],
   "source": [
    "df_primary_type = spark.read.format(\"mongo\").option(\"uri\",\"mongodb://mongo:27017/mydb.primary_type\").load()"
   ]
  },
  {
   "cell_type": "code",
   "execution_count": 5,
   "metadata": {},
   "outputs": [
    {
     "name": "stdout",
     "output_type": "stream",
     "text": [
      "+--------------------+------+--------------------+-----------+--------------+-------------------+-------------------+---------------+--------+--------+------------+------------------------+-------------+----------------+--------------------+----+----+\n",
      "|                 _id|arrest|               block|case_number|community_area|               date|          date_time|description_int|district|domestic|    latitude|location_description_int|    longitude|primary_type_int|          updated_on|ward|year|\n",
      "+--------------------+------+--------------------+-----------+--------------+-------------------+-------------------+---------------+--------+--------+------------+------------------------+-------------+----------------+--------------------+----+----+\n",
      "|[600941abb8311119...| false|   018XX N TALMAN AV|    G055473|          null|2001-01-01 00:00:00|2001-01-01 00:00:00|              1|     014|   false|41.914955409|                     180|-87.693605188|              34|2015-08-17T15:03:...|null|2001|\n",
      "|[600941abb8311119...| false|    034XX W ADAMS ST|    G057402|          null|2001-01-01 00:00:00|2001-01-01 00:00:00|            184|     011|   false| 41.87821192|                     152|-87.711432075|               9|2015-08-17T15:03:...|null|2001|\n",
      "|[600941abb8311119...| false|  062XX N PULASKI RD|    G061760|          null|2001-01-01 00:00:00|2001-01-01 00:00:00|            184|     017|   false|41.995267432|                     176|-87.729044138|               9|2015-08-17T15:03:...|null|2001|\n",
      "|[600941abb8311119...| false|012XX N SPRINGFIE...|    G067736|          null|2001-01-01 00:00:00|2001-01-01 00:00:00|            435|     025|   false|41.903597909|                     152|-87.724042825|               1|2015-08-17T15:03:...|null|2001|\n",
      "|[600941abb8311119...| false|045XX N CLARENDON AV|    G000065|          null|2001-01-01 00:00:00|2001-01-01 00:00:00|            477|     019|   false|41.963705611|                     180|-87.650116531|               6|2015-08-17T15:03:...|null|2001|\n",
      "+--------------------+------+--------------------+-----------+--------------+-------------------+-------------------+---------------+--------+--------+------------+------------------------+-------------+----------------+--------------------+----+----+\n",
      "only showing top 5 rows\n",
      "\n"
     ]
    }
   ],
   "source": [
    "df_cleaned.show(5)"
   ]
  },
  {
   "cell_type": "code",
   "execution_count": 6,
   "metadata": {},
   "outputs": [
    {
     "name": "stdout",
     "output_type": "stream",
     "text": [
      "+---+------+-----+-----------+--------------+----+---------+---------------+--------+--------+--------+------------------------+---------+----------------+----------+------+----+\n",
      "|_id|arrest|block|case_number|community_area|date|date_time|description_int|district|domestic|latitude|location_description_int|longitude|primary_type_int|updated_on|  ward|year|\n",
      "+---+------+-----+-----------+--------------+----+---------+---------------+--------+--------+--------+------------------------+---------+----------------+----------+------+----+\n",
      "|  0|     0|    0|          3|        604201|   0|        0|              0|      49|       0|       0|                       0|        0|               0|         0|605506|   0|\n",
      "+---+------+-----+-----------+--------------+----+---------+---------------+--------+--------+--------+------------------------+---------+----------------+----------+------+----+\n",
      "\n"
     ]
    }
   ],
   "source": [
    "df_cleaned.select([count(when(col(c).isNull(), c)).alias(c) for c in df_cleaned.columns]).show()"
   ]
  },
  {
   "cell_type": "code",
   "execution_count": 7,
   "metadata": {},
   "outputs": [
    {
     "name": "stdout",
     "output_type": "stream",
     "text": [
      "root\n",
      " |-- _id: struct (nullable = true)\n",
      " |    |-- oid: string (nullable = true)\n",
      " |-- arrest: boolean (nullable = true)\n",
      " |-- block: string (nullable = true)\n",
      " |-- case_number: string (nullable = true)\n",
      " |-- community_area: string (nullable = true)\n",
      " |-- date: timestamp (nullable = true)\n",
      " |-- date_time: timestamp (nullable = true)\n",
      " |-- description_int: string (nullable = true)\n",
      " |-- district: string (nullable = true)\n",
      " |-- domestic: boolean (nullable = true)\n",
      " |-- latitude: string (nullable = true)\n",
      " |-- location_description_int: string (nullable = true)\n",
      " |-- longitude: string (nullable = true)\n",
      " |-- primary_type_int: string (nullable = true)\n",
      " |-- updated_on: string (nullable = true)\n",
      " |-- ward: string (nullable = true)\n",
      " |-- year: string (nullable = true)\n",
      "\n"
     ]
    }
   ],
   "source": [
    "df_cleaned.printSchema()"
   ]
  },
  {
   "cell_type": "markdown",
   "metadata": {},
   "source": [
    "# Multilayer Perceptron\n",
    "## Predict Crime based on Time, weekday and District "
   ]
  },
  {
   "cell_type": "code",
   "execution_count": 5,
   "metadata": {},
   "outputs": [],
   "source": [
    "df_cleaned.createOrReplaceTempView(\"view_for_prediction\")"
   ]
  },
  {
   "cell_type": "code",
   "execution_count": 9,
   "metadata": {},
   "outputs": [
    {
     "data": {
      "text/plain": [
       "['_id',\n",
       " 'arrest',\n",
       " 'block',\n",
       " 'case_number',\n",
       " 'community_area',\n",
       " 'date',\n",
       " 'date_time',\n",
       " 'description_int',\n",
       " 'district',\n",
       " 'domestic',\n",
       " 'latitude',\n",
       " 'location_description_int',\n",
       " 'longitude',\n",
       " 'primary_type_int',\n",
       " 'updated_on',\n",
       " 'ward',\n",
       " 'year']"
      ]
     },
     "execution_count": 9,
     "metadata": {},
     "output_type": "execute_result"
    }
   ],
   "source": [
    "df_cleaned.columns"
   ]
  },
  {
   "cell_type": "code",
   "execution_count": 6,
   "metadata": {},
   "outputs": [],
   "source": [
    "#df_for_prediction = spark.sql('Select community_area, district, weekday(date) as weekday, primary_type_int FROM view_for_prediction')\n",
    "df_for_prediction = spark.sql('Select district, date_time, primary_type_int, weekday(date) as weekday FROM view_for_prediction')"
   ]
  },
  {
   "cell_type": "code",
   "execution_count": 7,
   "metadata": {},
   "outputs": [],
   "source": [
    "df_for_prediction_primary_count = spark.sql('Select primary_type_int, count(primary_type_int) as count FROM view_for_prediction GROUP BY primary_type_int')"
   ]
  },
  {
   "cell_type": "code",
   "execution_count": 8,
   "metadata": {},
   "outputs": [],
   "source": [
    "count_primary = [item[0] for item in df_for_prediction_primary_count.select(\"count\").collect()]\n",
    "primary_type_int = [item[0] for item in df_for_prediction_primary_count.select(\"primary_type_int\").collect()]\n",
    "number_of_crimes_primary = {\"count_primary\":count_primary, \"primary_type_int\" : primary_type_int}\n",
    "pd_primary_count = pd.DataFrame(number_of_crimes_primary, columns=number_of_crimes_primary.keys())"
   ]
  },
  {
   "cell_type": "code",
   "execution_count": 9,
   "metadata": {},
   "outputs": [
    {
     "data": {
      "image/png": "[encoded data removed]",
      "text/plain": [
       "<Figure size 1440x720 with 1 Axes>"
      ]
     },
     "metadata": {
      "needs_background": "light"
     },
     "output_type": "display_data"
    }
   ],
   "source": [
    "pd_primary_count = pd_primary_count.sort_values(by = \"count_primary\")\n",
    "pd_primary_count.plot(figsize = (20,10), kind = \"bar\", color = \"red\",\n",
    "                               x = \"primary_type_int\", y = \"count_primary\", legend = False)\n",
    "plt.xlabel(\"\", fontsize = 18)\n",
    "plt.ylabel(\"Number of crimes\", fontsize = 18)\n",
    "plt.title(\"Primary Type\", fontsize = 28)\n",
    "plt.xticks(size = 18)\n",
    "plt.yticks(size = 18)\n",
    "plt.show()"
   ]
  },
  {
   "cell_type": "markdown",
   "metadata": {},
   "source": [
    "THEFT,ROBBERY, NARCOTICS, ASSAULT, BURGLARY, BATTERY, MOTOR VEHICLE THEFT, OFFENSE INVOLVING CHILDREN, CRIMINAL TRESPASS, WEAPONS VIOLATION, PUBLIC PEACE VIOLATION  , PROSTITUTION,DECEPTIVE PRACTICE "
   ]
  },
  {
   "cell_type": "code",
   "execution_count": 10,
   "metadata": {},
   "outputs": [],
   "source": [
    "primary_types = [34,31,19,1,3,2,18,24,8,35,29,27,9]"
   ]
  },
  {
   "cell_type": "code",
   "execution_count": 7,
   "metadata": {},
   "outputs": [],
   "source": [
    "df_for_prediction = spark.sql(\"\"\"Select district, date_time, primary_type_int, weekday(date) as weekday\n",
    "                                FROM view_for_prediction\n",
    "                                where primary_type_int IN (34,31,19,1,3,2,18,24,8,35,29,27,9)  \"\"\")        "
   ]
  },
  {
   "cell_type": "code",
   "execution_count": 8,
   "metadata": {},
   "outputs": [],
   "source": [
    "df_unique_primary = spark.read.format(\"mongo\").option(\"uri\",\"mongodb://mongo:27017/mydb.primary_type\").load()"
   ]
  },
  {
   "cell_type": "code",
   "execution_count": 9,
   "metadata": {},
   "outputs": [],
   "source": [
    "unique_primary = df_unique_primary.select(df_unique_primary.primary_type, df_unique_primary.id).collect()"
   ]
  },
  {
   "cell_type": "code",
   "execution_count": 10,
   "metadata": {},
   "outputs": [],
   "source": [
    "unique_primary.sort()"
   ]
  },
  {
   "cell_type": "code",
   "execution_count": 11,
   "metadata": {},
   "outputs": [],
   "source": [
    "myfunc =  UserDefinedFunction(lambda x: unique_primary[int(x)].primary_type)                            \n",
    "df = df_for_prediction.withColumn('primary_type', myfunc(col('primary_type_int')))"
   ]
  },
  {
   "cell_type": "code",
   "execution_count": 12,
   "metadata": {},
   "outputs": [],
   "source": [
    "primary_types = df.select(df.primary_type).distinct().collect()"
   ]
  },
  {
   "cell_type": "code",
   "execution_count": 13,
   "metadata": {},
   "outputs": [],
   "source": [
    "indexer = StringIndexer(inputCol=\"primary_type\", outputCol=\"primary_type_int_new\")\n",
    "df_for_prediction = indexer.fit(df).transform(df)"
   ]
  },
  {
   "cell_type": "code",
   "execution_count": 14,
   "metadata": {},
   "outputs": [],
   "source": [
    "df_for_prediction.createOrReplaceTempView(\"view_for_prediction_cleaned\")"
   ]
  },
  {
   "cell_type": "code",
   "execution_count": 17,
   "metadata": {},
   "outputs": [],
   "source": [
    "df_for_prediction_plot = spark.sql('Select primary_type, primary_type_int_new, count(primary_type_int_new) as count FROM view_for_prediction_cleaned GROUP BY primary_type,primary_type_int_new')"
   ]
  },
  {
   "cell_type": "code",
   "execution_count": 26,
   "metadata": {},
   "outputs": [],
   "source": [
    "count = [item[0] for item in df_for_prediction_plot.select(\"count\").collect()]\n",
    "primary_type_int_new = [item[0] for item in df_for_prediction_plot.select(\"primary_type_int_new\").collect()]\n",
    "number_of_crimes_primary_plot = {\"count_primary\":count, \"primary_type_int_new\" : primary_type_int_new}\n",
    "pd_primary_count_plot = pd.DataFrame(number_of_crimes_primary_plot, columns=number_of_crimes_primary_plot.keys())"
   ]
  },
  {
   "cell_type": "code",
   "execution_count": 25,
   "metadata": {},
   "outputs": [
    {
     "data": {
      "image/png": "[encoded data removed]",
      "text/plain": [
       "<Figure size 1440x720 with 1 Axes>"
      ]
     },
     "metadata": {},
     "output_type": "display_data"
    }
   ],
   "source": [
    "pd_primary_count_plot = pd_primary_count_plot.sort_values(by = \"count_primary\")\n",
    "pd_primary_count_plot.plot(figsize = (20,10), kind = \"bar\", color = \"red\",\n",
    "                               x = \"primary_type\", y = \"count_primary\", legend = False)\n",
    "plt.xlabel(\"\", fontsize = 18)\n",
    "plt.ylabel(\"Number of crimes\", fontsize = 18)\n",
    "plt.title(\"Primary Type\", fontsize = 28)\n",
    "plt.xticks(size = 18)\n",
    "plt.yticks(size = 18)\n",
    "plt.show()"
   ]
  },
  {
   "cell_type": "code",
   "execution_count": 15,
   "metadata": {},
   "outputs": [],
   "source": [
    "num_samples = df_for_prediction.count()"
   ]
  },
  {
   "cell_type": "code",
   "execution_count": 23,
   "metadata": {},
   "outputs": [
    {
     "data": {
      "text/plain": [
       "5778813"
      ]
     },
     "execution_count": 23,
     "metadata": {},
     "output_type": "execute_result"
    }
   ],
   "source": [
    "num_samples"
   ]
  },
  {
   "cell_type": "code",
   "execution_count": 29,
   "metadata": {},
   "outputs": [
    {
     "name": "stdout",
     "output_type": "stream",
     "text": [
      "1.0 primary\n",
      "1325902.0 count\n",
      "0.1705580713547921 fraction1\n",
      "7.0 primary\n",
      "271544.0 count\n",
      "0.8530104192677631 fraction3\n",
      "12.0 primary\n",
      "47883.0 count\n",
      "8.0 primary\n",
      "203903.0 count\n",
      "0.8647154182009351 fraction3\n",
      "5.0 primary\n",
      "332646.0 count\n",
      "0.7424369675917875 fraction2\n",
      "9.0 primary\n",
      "86249.0 count\n",
      "3.0 primary\n",
      "457823.0 count\n",
      "0.7207755987258976 fraction2\n",
      "4.0 primary\n",
      "405391.0 count\n",
      "0.7298487422936164 fraction2\n",
      "10.0 primary\n",
      "69156.0 count\n",
      "0.0 primary\n",
      "1512398.0 count\n",
      "0.13828569984874056 fraction1\n",
      "2.0 primary\n",
      "725312.0 count\n",
      "0.274487719190775 fraction1\n",
      "11.0 primary\n",
      "50368.0 count\n",
      "6.0 primary\n",
      "290238.0 count\n",
      "0.8497754988784029 fraction3\n"
     ]
    }
   ],
   "source": [
    "fractions = {}\n",
    "for i in pd_primary_count_plot.iterrows():  \n",
    "    index = i[1].primary_type_int_new\n",
    "    count = i[1].count_primary\n",
    "    print(index, 'primary')\n",
    "    print(count,'count')\n",
    "\n",
    "    if count > 700000:\n",
    "        fractions[index] = 0.4 - (count / num_samples)\n",
    "        print(0.4 - (count / num_samples),  'fraction1')\n",
    "    elif count > 300000:\n",
    "        fractions[index] = 0.8 - (count / num_samples)\n",
    "        print(0.8  - (count / num_samples),  'fraction2')\n",
    "    elif count > 200000:\n",
    "        fractions[index] = 0.9  - (count / num_samples)\n",
    "        print(0.9  - (count / num_samples),  'fraction3')\n",
    "    elif count > 100000:\n",
    "        fractions[index] = 1 - (count / num_samples)\n",
    "        print(1  - (count / num_samples),  'fraction4')\n",
    "    else:\n",
    "        fractions[index] = 1\n",
    "    \n",
    "\n",
    "   \n",
    "#    print(1 - (count / num_samples))\n",
    "\n"
   ]
  },
  {
   "cell_type": "code",
   "execution_count": 30,
   "metadata": {},
   "outputs": [],
   "source": [
    "df_for_prediction = df_for_prediction.na.drop(subset=['district', 'date_time', 'primary_type_int'])\n",
    "df_for_prediction = df_for_prediction.withColumn('time', date_format(\"date_time\",\"HH:mm:ss\"))\n",
    "myfunc =  UserDefinedFunction(lambda x: x.replace(':',''))\n",
    "df_for_prediction = df_for_prediction.withColumn('time_int', myfunc(col('time')))\n",
    "df_for_prediction = df_for_prediction.withColumn(\"district\", df_for_prediction[\"district\"].cast(IntegerType()))\n",
    "df_for_prediction = df_for_prediction.withColumn(\"primary_type_int\", df_for_prediction[\"primary_type_int\"].cast(IntegerType()))\n",
    "df_for_prediction = df_for_prediction.withColumn(\"time_int\", df_for_prediction[\"time_int\"].cast(IntegerType()))\n",
    "df_for_prediction = df_for_prediction.withColumn(\"weekday\", df_for_prediction[\"weekday\"].cast(IntegerType()))"
   ]
  },
  {
   "cell_type": "code",
   "execution_count": 31,
   "metadata": {},
   "outputs": [],
   "source": [
    "sampled_df = df_for_prediction.stat.sampleBy(\"primary_type_int_new\", fractions,num_samples )"
   ]
  },
  {
   "cell_type": "code",
   "execution_count": 27,
   "metadata": {},
   "outputs": [
    {
     "data": {
      "text/plain": [
       "2415756"
      ]
     },
     "execution_count": 27,
     "metadata": {},
     "output_type": "execute_result"
    }
   ],
   "source": [
    "sampled_df.count()"
   ]
  },
  {
   "cell_type": "code",
   "execution_count": null,
   "metadata": {},
   "outputs": [],
   "source": [
    "sampled_df.createOrReplaceTempView(\"stratified_sample\")"
   ]
  },
  {
   "cell_type": "code",
   "execution_count": 29,
   "metadata": {},
   "outputs": [],
   "source": [
    "df_for_prediction_strat = spark.sql('Select primary_type_int_new, count(primary_type_int_new) as count FROM stratified_sample GROUP BY primary_type_int_new')"
   ]
  },
  {
   "cell_type": "code",
   "execution_count": 30,
   "metadata": {},
   "outputs": [],
   "source": [
    "count = [item[0] for item in df_for_prediction_strat.select(\"count\").collect()]\n",
    "primary_type_int_new = [item[0] for item in df_for_prediction_strat.select(\"primary_type_int_new\").collect()]\n",
    "number_of_crimes_primary_strat = {\"count\":count, \"primary_type_int_new\" : primary_type_int_new}\n",
    "pd_primary_count_strat = pd.DataFrame(number_of_crimes_primary_strat, columns=number_of_crimes_primary_strat.keys())\n"
   ]
  },
  {
   "cell_type": "code",
   "execution_count": 31,
   "metadata": {},
   "outputs": [
    {
     "data": {
      "image/png": "[encoded data removed]",
      "text/plain": [
       "<Figure size 1440x720 with 1 Axes>"
      ]
     },
     "metadata": {
      "needs_background": "light"
     },
     "output_type": "display_data"
    }
   ],
   "source": [
    "pd_primary_count_strat = pd_primary_count_strat.sort_values(by = \"count\")\n",
    "pd_primary_count_strat.plot(figsize = (20,10), kind = \"bar\", color = \"red\",\n",
    "                               x = \"primary_type_int_new\", y = \"count\", legend = False)\n",
    "plt.xlabel(\"\", fontsize = 18)\n",
    "plt.ylabel(\"Number of crimes\", fontsize = 18)\n",
    "plt.title(\"Primary Type\", fontsize = 28)\n",
    "plt.xticks(size = 18)\n",
    "plt.yticks(size = 18)\n",
    "plt.show()"
   ]
  },
  {
   "cell_type": "code",
   "execution_count": 32,
   "metadata": {},
   "outputs": [],
   "source": [
    "#feature_columns = df_for_prediction.columns[:-1]\n",
    "feature_columns = ['district', 'time_int', 'weekday']\n",
    "assembler = VectorAssembler(inputCols=feature_columns,outputCol=\"features\")\n",
    "data = assembler.transform(df_for_prediction)\n",
    "train = assembler.transform(sampled_df)"
   ]
  },
  {
   "cell_type": "code",
   "execution_count": 33,
   "metadata": {},
   "outputs": [],
   "source": [
    "data = data.drop('district', 'weekday', 'time_int', 'time', 'date_time')\n",
    "train = train.drop('district', 'weekday', 'time_int', 'time', 'date_time')\n",
    "test = data.subtract(train)"
   ]
  },
  {
   "cell_type": "code",
   "execution_count": 40,
   "metadata": {},
   "outputs": [],
   "source": [
    "output_dim = 13\n",
    "input_dim = 3\n",
    "\n",
    "layers_arr = [\n",
    "    [input_dim,3,4,output_dim],\n",
    "    [input_dim,3,5,output_dim],\n",
    "    [input_dim,3,6,output_dim],\n",
    "    [input_dim,3,7,output_dim],\n",
    "    [input_dim,3, 5, 6 ,output_dim],\n",
    "    [input_dim,4,4,output_dim],\n",
    "    [input_dim,4,5,output_dim],\n",
    "    [input_dim,4,6,output_dim],\n",
    "    [input_dim,4,7,output_dim],\n",
    "    [input_dim,4,8,output_dim],\n",
    "    [input_dim,4, 5 , 8,output_dim],\n",
    "    [input_dim,5,3,output_dim],\n",
    "    [input_dim,5,4,output_dim],\n",
    "    [input_dim,5,5,output_dim],\n",
    "    [input_dim,5,6,output_dim],\n",
    "    [input_dim,5,7,output_dim],\n",
    "    [input_dim,5,8,output_dim],\n",
    "    [input_dim,5, 6 , 7,output_dim],\n",
    "    [input_dim,6, 6 ,output_dim],\n",
    "    [input_dim,6, 8 ,output_dim],\n",
    "    [input_dim,8,16,output_dim]\n",
    "\n",
    "]"
   ]
  },
  {
   "cell_type": "code",
   "execution_count": 42,
   "metadata": {},
   "outputs": [
    {
     "name": "stdout",
     "output_type": "stream",
     "text": [
      "[3, 3, 4, 13]\n",
      "model default trained\n",
      "model svg trained\n",
      "Test set accuracy default = 0.04102333768045891\n",
      "Test set accuracy SGD = 0.02610185946975826\n",
      "[3, 3, 5, 13]\n",
      "model default trained\n",
      "model svg trained\n",
      "Test set accuracy default = 0.04082670833666009\n",
      "Test set accuracy SGD = 0.014229189553864879\n",
      "[3, 3, 6, 13]\n",
      "model default trained\n",
      "model svg trained\n",
      "Test set accuracy default = 0.04073446932836212\n",
      "Test set accuracy SGD = 0.04044434709997125\n",
      "[3, 3, 7, 13]\n",
      "model default trained\n",
      "model svg trained\n",
      "Test set accuracy default = 0.040918891568242216\n",
      "Test set accuracy SGD = 0.02570472983455161\n",
      "[3, 3, 5, 6, 13]\n",
      "model default trained\n",
      "model svg trained\n",
      "Test set accuracy default = 0.04050580951186417\n",
      "Test set accuracy SGD = 0.0\n",
      "[3, 4, 4, 13]\n",
      "model default trained\n",
      "model svg trained\n",
      "Test set accuracy default = 0.04059513050146523\n",
      "Test set accuracy SGD = 0.04107907722365554\n",
      "[3, 4, 5, 13]\n",
      "model default trained\n",
      "model svg trained\n",
      "Test set accuracy default = 0.0404554252533303\n",
      "Test set accuracy SGD = 0.026098092120581267\n",
      "[3, 4, 6, 13]\n",
      "model default trained\n",
      "model svg trained\n",
      "Test set accuracy default = 0.04105652706946134\n",
      "Test set accuracy SGD = 0.010417022672745541\n",
      "[3, 4, 7, 13]\n",
      "model default trained\n",
      "model svg trained\n",
      "Test set accuracy default = 0.040755925045945614\n",
      "Test set accuracy SGD = 0.38246095033027994\n",
      "[3, 4, 8, 13]\n",
      "model default trained\n",
      "model svg trained\n",
      "Test set accuracy default = 0.04058722525123308\n",
      "Test set accuracy SGD = 0.22511358377615617\n",
      "[3, 4, 5, 8, 13]\n",
      "model default trained\n",
      "model svg trained\n",
      "Test set accuracy default = 0.040202114965980196\n",
      "Test set accuracy SGD = 0.025537355647276813\n",
      "[3, 5, 3, 13]\n",
      "model default trained\n",
      "model svg trained\n",
      "Test set accuracy default = 0.04043897739362309\n",
      "Test set accuracy SGD = 0.014012154517094144\n",
      "[3, 5, 4, 13]\n",
      "model default trained\n",
      "model svg trained\n",
      "Test set accuracy default = 0.04072176461739729\n",
      "Test set accuracy SGD = 0.01345435642074447\n",
      "[3, 5, 5, 13]\n",
      "model default trained\n",
      "model svg trained\n",
      "Test set accuracy default = 0.040608801649597286\n",
      "Test set accuracy SGD = 0.013853104557248839\n",
      "[3, 5, 6, 13]\n",
      "model default trained\n",
      "model svg trained\n",
      "Test set accuracy default = 0.04061142940553954\n",
      "Test set accuracy SGD = 0.013439194422927963\n",
      "[3, 5, 7, 13]\n",
      "model default trained\n",
      "model svg trained\n",
      "Test set accuracy default = 0.040402495508677895\n",
      "Test set accuracy SGD = 0.04065803436826788\n",
      "[3, 5, 8, 13]\n",
      "model default trained\n",
      "model svg trained\n",
      "Test set accuracy default = 0.04032883511710873\n",
      "Test set accuracy SGD = 0.010391764982030906\n",
      "[3, 5, 6, 7, 13]\n",
      "model default trained\n",
      "model svg trained\n",
      "Test set accuracy default = 0.041409938567548356\n",
      "Test set accuracy SGD = 0.3823402004505121\n",
      "[3, 6, 6, 13]\n",
      "model default trained\n",
      "model svg trained\n",
      "Test set accuracy default = 0.04057458815481959\n",
      "Test set accuracy SGD = 0.040531203896468145\n",
      "[3, 6, 8, 13]\n",
      "model default trained\n",
      "model svg trained\n",
      "Test set accuracy default = 0.04096795607333581\n",
      "Test set accuracy SGD = 0.014107528644179307\n",
      "[3, 8, 16, 13]\n",
      "model default trained\n",
      "model svg trained\n",
      "Test set accuracy default = 0.04042849320069362\n",
      "Test set accuracy SGD = 0.38190572731880384\n"
     ]
    }
   ],
   "source": [
    "models = []\n",
    "results = []\n",
    "\n",
    "for layers in layers_arr:\n",
    "    print(layers)\n",
    "    \n",
    "    trainer_default = MultilayerPerceptronClassifier(maxIter=75,\n",
    "                                                     layers=layers,\n",
    "                                                     blockSize=128,\n",
    "                                                     seed=1234,\n",
    "                                                     labelCol=\"primary_type_int_new\",\n",
    "                                                     featuresCol=\"features\")\n",
    "    \n",
    "    trainer_sgd = MultilayerPerceptronClassifier(maxIter=75,\n",
    "                                                 layers=layers,\n",
    "                                                 blockSize=128,\n",
    "                                                 seed=1234,\n",
    "                                                 labelCol=\"primary_type_int_new\",\n",
    "                                                 featuresCol=\"features\",\n",
    "                                                 solver='gd')\n",
    "    model_default = trainer_default.fit(train)\n",
    "    print(\"model default trained\")\n",
    "\n",
    "    model_sgd = trainer_sgd.fit(train)\n",
    "    \n",
    "    print(\"model sgd trained\")\n",
    "\n",
    "    models.append(model_default)\n",
    "    models.append(model_sgd)\n",
    "    \n",
    "    result_default = model_default.transform(test)\n",
    "    predictionAndLabels_default = result_default.select(\"prediction\", \"primary_type_int_new\")\n",
    "    evaluator_default = MulticlassClassificationEvaluator(labelCol=\"primary_type_int_new\", predictionCol=\"prediction\", metricName=\"accuracy\")\n",
    "    print(\"Test set accuracy default = \" + str(evaluator_default.evaluate(predictionAndLabels_default)))\n",
    "\n",
    "    result_sgd = model_sgd.transform(test)\n",
    "    predictionAndLabels_sgd = result_sgd.select(\"prediction\", \"primary_type_int_new\")\n",
    "    evaluator_sgd = MulticlassClassificationEvaluator(labelCol=\"primary_type_int_new\", predictionCol=\"prediction\", metricName=\"accuracy\")\n",
    "    print(\"Test set accuracy SGD = \" + str(evaluator_sgd.evaluate(predictionAndLabels_sgd)))\n",
    "    \n",
    "    results.append(result_default)\n",
    "    results.append(result_sgd)"
   ]
  },
  {
   "cell_type": "code",
   "execution_count": 43,
   "metadata": {},
   "outputs": [],
   "source": [
    "layers_2 = [\n",
    "[3, 5, 6 , 7, 13],\n",
    "[3, 8, 16, 13],\n",
    "[3, 4, 7, 13],\n",
    "[3, 8, 16, 24, 13]]"
   ]
  },
  {
   "cell_type": "code",
   "execution_count": 46,
   "metadata": {},
   "outputs": [
    {
     "name": "stdout",
     "output_type": "stream",
     "text": [
      "[3, 5, 6, 7, 13]\n",
      "model svg trained\n",
      "Test set accuracy SGD = 0.3824118758705271\n",
      "[3, 8, 16, 13]\n",
      "model svg trained\n",
      "Test set accuracy SGD = 0.3824510445426834\n",
      "[3, 4, 7, 13]\n",
      "model svg trained\n",
      "Test set accuracy SGD = 0.3813278965116518\n",
      "[3, 8, 16, 24, 13]\n",
      "model svg trained\n",
      "Test set accuracy SGD = 0.025527348778081792\n"
     ]
    }
   ],
   "source": [
    "models2 = []\n",
    "results2 = []\n",
    "\n",
    "for layers in layers_2:\n",
    "    print(layers)\n",
    "    \n",
    "    trainer_sgd = MultilayerPerceptronClassifier(maxIter=200,\n",
    "                                                 layers=layers,\n",
    "                                                 blockSize=128,\n",
    "                                                 seed=1234,\n",
    "                                                 labelCol=\"primary_type_int_new\",\n",
    "                                                 featuresCol=\"features\",\n",
    "                                                 solver='gd',\n",
    "                                                 stepSize=0.01)\n",
    "\n",
    "\n",
    "    model_sgd = trainer_sgd.fit(train)    \n",
    "    print(\"model sgd trained\")\n",
    "\n",
    "    models2.append(model_sgd)\n",
    "\n",
    "    result_sgd = model_sgd.transform(test)\n",
    "    predictionAndLabels_sgd = result_sgd.select(\"prediction\", \"primary_type_int_new\")\n",
    "    evaluator_sgd = MulticlassClassificationEvaluator(labelCol=\"primary_type_int_new\", predictionCol=\"prediction\", metricName=\"accuracy\")\n",
    "    print(\"Test set accuracy SGD = \" + str(evaluator_sgd.evaluate(predictionAndLabels_sgd)))    \n",
    "\n",
    "    results2.append(result_sgd)"
   ]
  },
  {
   "cell_type": "code",
   "execution_count": 47,
   "metadata": {},
   "outputs": [
    {
     "name": "stdout",
     "output_type": "stream",
     "text": [
      "model svg trained\n",
      "Test set accuracy SGD = 0.04083068620418759\n"
     ]
    }
   ],
   "source": [
    "layer = [3, 8, 16, 13]\n",
    "\n",
    "trainer_sgd = MultilayerPerceptronClassifier(maxIter=500,\n",
    "                                             layers=layers,\n",
    "                                             blockSize=256,\n",
    "                                             seed=1234,\n",
    "                                             labelCol=\"primary_type_int_new\",\n",
    "                                             featuresCol=\"features\",\n",
    "                                             solver='gd')\n",
    "\n",
    "\n",
    "model_sgd = trainer_sgd.fit(train)    \n",
    "print(\"model sgd trained\")  \n",
    "\n",
    "result_sgd = model_sgd.transform(test)\n",
    "predictionAndLabels_sgd = result_sgd.select(\"prediction\", \"primary_type_int_new\")\n",
    "evaluator_sgd = MulticlassClassificationEvaluator(labelCol=\"primary_type_int_new\", predictionCol=\"prediction\", metricName=\"accuracy\")\n",
    "print(\"Test set accuracy SGD = \" + str(evaluator_sgd.evaluate(predictionAndLabels_sgd)))   "
   ]
  },
  {
   "cell_type": "code",
   "execution_count": 38,
   "metadata": {},
   "outputs": [
    {
     "name": "stdout",
     "output_type": "stream",
     "text": [
      "Test set accuracy default = 0.04055682611851385\n"
     ]
    }
   ],
   "source": [
    "print(\"Test set accuracy default = \" + str(evaluator_default.evaluate(predictionAndLabels_default)))\n"
   ]
  },
  {
   "cell_type": "code",
   "execution_count": 37,
   "metadata": {},
   "outputs": [
    {
     "name": "stdout",
     "output_type": "stream",
     "text": [
      "+--------+--------+-------+------------------+\n",
      "|district|time_int|weekday|          features|\n",
      "+--------+--------+-------+------------------+\n",
      "|     8.0|       6| 135400|[8.0,6.0,135400.0]|\n",
      "+--------+--------+-------+------------------+\n",
      "\n",
      "+------------------+--------------------+--------------------+----------+\n",
      "|          features|       rawPrediction|         probability|prediction|\n",
      "+------------------+--------------------+--------------------+----------+\n",
      "|[8.0,6.0,135400.0]|[1.45901177345471...|[0.12978330310180...|       7.0|\n",
      "+------------------+--------------------+--------------------+----------+\n",
      "\n"
     ]
    }
   ],
   "source": [
    "today_weekday = 6\n",
    "time_now = 135400\n",
    "district = 8.0\n",
    "vector = [district, time_now, today_weekday]\n",
    "df = spark.createDataFrame([(vector)],(\"district\", \"time_int\", \"weekday\"))\n",
    "\n",
    "feature_columns = ['district', 'time_int', 'weekday']\n",
    "assembler = VectorAssembler(inputCols=feature_columns,outputCol=\"features\")\n",
    "#result = model.evaluate(test)\n",
    "data = assembler.transform(df)\n",
    "data.show(20)\n",
    "data = data.drop('district')\n",
    "data = data.drop('time_int')\n",
    "data = data.drop('weekday')\n",
    "result = model_sgd.transform(data)\n",
    "result.show()\n",
    "pred = result.select('prediction').collect()"
   ]
  },
  {
   "cell_type": "markdown",
   "metadata": {},
   "source": [
    "# Time series forecasting\n",
    "Predict the crime rate in the next months"
   ]
  },
  {
   "cell_type": "code",
   "execution_count": null,
   "metadata": {},
   "outputs": [],
   "source": [
    "#create view\n",
    "df_cleaned.createOrReplaceTempView(\"view_for_forecasting\")"
   ]
  },
  {
   "cell_type": "code",
   "execution_count": null,
   "metadata": {},
   "outputs": [],
   "source": [
    "df_cleaned.show(5)"
   ]
  },
  {
   "cell_type": "code",
   "execution_count": null,
   "metadata": {},
   "outputs": [],
   "source": [
    "#select the number of crimes per year\n",
    "df_for_forecasting = spark.sql('Select date, COUNT(date) as num_crimes FROM view_for_forecasting GROUP BY date')\n",
    "#df_for_forecasting = spark.sql('Select date_time, primary_type_int FROM view_for_forecasting')\n"
   ]
  },
  {
   "cell_type": "code",
   "execution_count": null,
   "metadata": {},
   "outputs": [],
   "source": [
    "#filter for all crimes in 2018, 2019, 2020,2021\n",
    "begin_date = '2018-01-01'\n",
    "begin_date = datetime.strptime(begin_date, '%Y-%m-%d')\n",
    "\n",
    "end_date = '2020-12-31'\n",
    "end_date = datetime.strptime(end_date, '%Y-%m-%d')\n",
    "\n",
    "df_for_forecasting = df_for_forecasting.where(col('date').between(limit, end_date))\n"
   ]
  },
  {
   "cell_type": "code",
   "execution_count": null,
   "metadata": {},
   "outputs": [],
   "source": [
    "df_for_forecasting = df_for_forecasting.sort(\"date\")"
   ]
  },
  {
   "cell_type": "code",
   "execution_count": null,
   "metadata": {},
   "outputs": [],
   "source": [
    "df_for_forecasting.show(5)"
   ]
  },
  {
   "cell_type": "code",
   "execution_count": null,
   "metadata": {},
   "outputs": [],
   "source": [
    "#convert to pandas dataframe\n",
    "pd_df_for_forecasting = df_for_forecasting.toPandas()\n"
   ]
  },
  {
   "cell_type": "code",
   "execution_count": null,
   "metadata": {},
   "outputs": [],
   "source": [
    "#rename the columns\n",
    "pd_df_for_forecasting = pd_df_for_forecasting.rename(columns = {'date': 'ds', 'num_crimes': 'y'})"
   ]
  },
  {
   "cell_type": "code",
   "execution_count": null,
   "metadata": {},
   "outputs": [],
   "source": [
    "#create a model and fit the data\n",
    "m = Prophet(interval_width = 0.95, daily_seasonality = False)\n",
    "m.add_seasonality(name = 'monthly', period = 30.5, fourier_order = 10)\n",
    "m.add_seasonality(name = 'quarterly', period = 91.5, fourier_order = 10)\n",
    "m.fit(pd_df_for_forecasting)"
   ]
  },
  {
   "cell_type": "code",
   "execution_count": null,
   "metadata": {},
   "outputs": [],
   "source": [
    "#predict the future of crime rates\n",
    "future = m.make_future_dataframe(periods = 24, freq = 'M')\n",
    "pred = m.predict(future)"
   ]
  },
  {
   "cell_type": "code",
   "execution_count": null,
   "metadata": {},
   "outputs": [],
   "source": [
    "#show prediction\n",
    "pred[['ds', 'yhat', 'yhat_lower', 'yhat_upper']].tail()"
   ]
  },
  {
   "cell_type": "code",
   "execution_count": null,
   "metadata": {},
   "outputs": [],
   "source": [
    "#plot the result\n",
    "fig = m.plot(pred, xlabel ='Date', ylabel = 'Crime Rate')"
   ]
  },
  {
   "cell_type": "markdown",
   "metadata": {},
   "source": [
    "# Predict when the next bulgary in ward 2 takes place "
   ]
  },
  {
   "cell_type": "code",
   "execution_count": null,
   "metadata": {},
   "outputs": [],
   "source": [
    "#create view\n",
    "df_cleaned.createOrReplaceTempView(\"view_for_forecasting_primary_type\")\n"
   ]
  },
  {
   "cell_type": "code",
   "execution_count": null,
   "metadata": {},
   "outputs": [],
   "source": [
    "#select the number of crimes per district and primary type\n",
    "df_for_forecasting_primary_type = spark.sql('Select date, ward, primary_type_int, COUNT(date) as num_crimes FROM view_for_forecasting_primary_type GROUP BY date, ward, primary_type_int')\n"
   ]
  },
  {
   "cell_type": "code",
   "execution_count": null,
   "metadata": {},
   "outputs": [],
   "source": [
    "#get the primary_types from mongo\n",
    "df_primary_type = spark.read.format(\"mongo\").option(\"uri\",\"mongodb://mongo:27017/mydb.primary_type\").load()\n"
   ]
  },
  {
   "cell_type": "code",
   "execution_count": null,
   "metadata": {},
   "outputs": [],
   "source": [
    "df_primary_type.show(30)"
   ]
  },
  {
   "cell_type": "code",
   "execution_count": null,
   "metadata": {},
   "outputs": [],
   "source": [
    "#get int code from bulgary\n",
    "primary_type_int = df_primary_type.filter(df_primary_type.primary_type == 'BURGLARY').select('id').head()[0]"
   ]
  },
  {
   "cell_type": "code",
   "execution_count": null,
   "metadata": {},
   "outputs": [],
   "source": [
    "#filter for all bulgarys in ward 2\n",
    "df_for_forecasting_primary_type = df_for_forecasting_primary_type.filter((df_for_forecasting_primary_type.ward  == \"2\") & (df_for_forecasting_primary_type.primary_type_int  == primary_type_int))\n"
   ]
  },
  {
   "cell_type": "code",
   "execution_count": null,
   "metadata": {},
   "outputs": [],
   "source": [
    "#filter for all crimes in 2020 and 2021\n",
    "limit = '2020-01-01'\n",
    "limit = datetime.strptime(limit, '%Y-%m-%d')\n",
    "df_for_forecasting_primary_type = df_for_forecasting_primary_type.where(col('date').between(limit, current_date()))"
   ]
  },
  {
   "cell_type": "code",
   "execution_count": null,
   "metadata": {},
   "outputs": [],
   "source": [
    "#convert the date into DateType\n",
    "myfunc =  UserDefinedFunction(lambda x: x.date(), DateType())\n",
    "df_for_forecasting_primary_type = df_for_forecasting_primary_type.withColumn('date', myfunc(col('date')))"
   ]
  },
  {
   "cell_type": "code",
   "execution_count": null,
   "metadata": {},
   "outputs": [],
   "source": [
    "df_for_forecasting_primary_type.show(5)"
   ]
  },
  {
   "cell_type": "code",
   "execution_count": null,
   "metadata": {},
   "outputs": [],
   "source": [
    "#drop columne ward and primary_type int\n",
    "df_for_forecasting_primary_type = df_for_forecasting_primary_type.drop('ward','primary_type_int')"
   ]
  },
  {
   "cell_type": "code",
   "execution_count": null,
   "metadata": {},
   "outputs": [],
   "source": [
    "#count the dates where the crime take place\n",
    "df_for_forecasting_primary_type.count()"
   ]
  },
  {
   "cell_type": "code",
   "execution_count": null,
   "metadata": {},
   "outputs": [],
   "source": [
    "#convert into pandas dataframe\n",
    "pd_df_for_forecasting_primary_type = df_for_forecasting_primary_type.toPandas()\n"
   ]
  },
  {
   "cell_type": "code",
   "execution_count": null,
   "metadata": {},
   "outputs": [],
   "source": [
    "#convert date to datetime\n",
    "pd_df_for_forecasting_primary_type['date']= pd.to_datetime(pd_df_for_forecasting_primary_type['date'])"
   ]
  },
  {
   "cell_type": "code",
   "execution_count": null,
   "metadata": {},
   "outputs": [],
   "source": [
    "#get the date from today\n",
    "today = pd.to_datetime('today').normalize()\n",
    "today = datetime.strftime(today, '%Y-%m-%d')\n",
    "today"
   ]
  },
  {
   "cell_type": "code",
   "execution_count": null,
   "metadata": {},
   "outputs": [],
   "source": [
    "#series with all dates from 2020 till now\n",
    "idx = pd.period_range(min(pd_df_for_forecasting_primary_type.date), today)"
   ]
  },
  {
   "cell_type": "code",
   "execution_count": null,
   "metadata": {},
   "outputs": [],
   "source": [
    "#create dataframe with all dates\n",
    "df_with_all_date = pd.DataFrame({'date':idx})\n"
   ]
  },
  {
   "cell_type": "code",
   "execution_count": null,
   "metadata": {},
   "outputs": [],
   "source": [
    "#convert the date to datetime format\n",
    "df_with_all_date['date'] = df_with_all_date['date'].dt.to_timestamp('s').dt.strftime('%Y-%m-%d')\n",
    "df_with_all_date['date']= pd.to_datetime(df_with_all_date['date'])"
   ]
  },
  {
   "cell_type": "code",
   "execution_count": null,
   "metadata": {},
   "outputs": [],
   "source": [
    "#join the dataframes, so that we have a new dataframe with all dates and the number of crimes per day\n",
    "df_with_all_date =df_with_all_date.set_index('date').join(pd_df_for_forecasting_primary_type.set_index('date'))"
   ]
  },
  {
   "cell_type": "code",
   "execution_count": null,
   "metadata": {},
   "outputs": [],
   "source": [
    "df_with_all_date.tail(30)"
   ]
  },
  {
   "cell_type": "code",
   "execution_count": null,
   "metadata": {},
   "outputs": [],
   "source": [
    "# fill all NaNs (no crime take place) with 0\n",
    "df_with_all_date = df_with_all_date.fillna(0)"
   ]
  },
  {
   "cell_type": "code",
   "execution_count": null,
   "metadata": {},
   "outputs": [],
   "source": [
    "#reset the index from dataframe\n",
    "df_with_all_date.reset_index(level=0, inplace=True)"
   ]
  },
  {
   "cell_type": "code",
   "execution_count": null,
   "metadata": {},
   "outputs": [],
   "source": [
    "#rename the columns\n",
    "df_with_all_date = df_with_all_date.rename(columns = {'date': 'ds', 'num_crimes': 'y'})"
   ]
  },
  {
   "cell_type": "code",
   "execution_count": null,
   "metadata": {},
   "outputs": [],
   "source": [
    "#create a model and fit it\n",
    "m = Prophet(interval_width = 0.95, daily_seasonality = True)\n",
    "m.add_seasonality(name = 'monthly', period = 30.5, fourier_order = 10)\n",
    "m.add_seasonality(name = 'quarterly', period = 91.5, fourier_order = 10)\n",
    "m.fit(df_with_all_date)"
   ]
  },
  {
   "cell_type": "code",
   "execution_count": null,
   "metadata": {},
   "outputs": [],
   "source": [
    "#predict the futer\n",
    "future = m.make_future_dataframe(periods = 100, freq = 'd')\n",
    "pred = m.predict(future)"
   ]
  },
  {
   "cell_type": "code",
   "execution_count": null,
   "metadata": {},
   "outputs": [],
   "source": [
    "pred[['ds', 'yhat', 'yhat_lower', 'yhat_upper']].tail()"
   ]
  },
  {
   "cell_type": "code",
   "execution_count": null,
   "metadata": {},
   "outputs": [],
   "source": [
    "#round the float to int -> it can only one crime take place but no 0,5 crimes\n",
    "pred['yhat'] = pred['yhat'].round(0).astype(int)"
   ]
  },
  {
   "cell_type": "code",
   "execution_count": null,
   "metadata": {},
   "outputs": [],
   "source": [
    "#found the day on which the next bulgary starts in ward 2\n",
    "i = 0\n",
    "for index, row in pred.iterrows():\n",
    "    prediction = row['yhat']\n",
    "    date = str(row['ds'])\n",
    "    date = datetime.strptime(date, '%Y-%m-%d %H:%M:%S')\n",
    "    today = date.today()\n",
    "    if date > today and prediction >= 1:\n",
    "        print('Next Bulgary in Ward 2 is on day: ' + str(date.day)+ '.'+ str(date.month)+ '.'+ str(date.year))\n",
    "        i += 1\n",
    "        if i == 10:\n",
    "            break\n",
    "    "
   ]
  },
  {
   "cell_type": "code",
   "execution_count": null,
   "metadata": {},
   "outputs": [],
   "source": [
    "#plot the prediction\n",
    "for index, row in pred.iterrows():\n",
    "    prediction = row['yhat']\n",
    "    if prediction <= 0:\n",
    "        pred.loc[index, 'yhat'] = 0\n",
    "fig = m.plot(pred, xlabel ='Date', ylabel = 'Crime Rate')"
   ]
  },
  {
   "cell_type": "code",
   "execution_count": null,
   "metadata": {},
   "outputs": [],
   "source": []
  },
  {
   "cell_type": "code",
   "execution_count": 2,
   "metadata": {},
   "outputs": [
    {
     "ename": "NameError",
     "evalue": "name 'spark' is not defined",
     "output_type": "error",
     "traceback": [
      "\u001b[0;31m---------------------------------------------------------------------------\u001b[0m",
      "\u001b[0;31mNameError\u001b[0m                                 Traceback (most recent call last)",
      "\u001b[0;32m<ipython-input-2-5c6b4d5d9db0>\u001b[0m in \u001b[0;36m<module>\u001b[0;34m\u001b[0m\n\u001b[0;32m----> 1\u001b[0;31m \u001b[0mspark\u001b[0m\u001b[0;34m.\u001b[0m\u001b[0mstop\u001b[0m\u001b[0;34m(\u001b[0m\u001b[0;34m)\u001b[0m\u001b[0;34m\u001b[0m\u001b[0;34m\u001b[0m\u001b[0m\n\u001b[0m",
      "\u001b[0;31mNameError\u001b[0m: name 'spark' is not defined"
     ]
    }
   ],
   "source": [
    "spark.stop()"
   ]
  },
  {
   "cell_type": "code",
   "execution_count": null,
   "metadata": {},
   "outputs": [],
   "source": []
  },
  {
   "cell_type": "code",
   "execution_count": null,
   "metadata": {},
   "outputs": [],
   "source": []
  },
  {
   "cell_type": "code",
   "execution_count": null,
   "metadata": {},
   "outputs": [],
   "source": []
  }
 ],
 "metadata": {
  "kernelspec": {
   "display_name": "Python 3",
   "language": "python",
   "name": "python3"
  },
  "language_info": {
   "codemirror_mode": {
    "name": "ipython",
    "version": 3
   },
   "file_extension": ".py",
   "mimetype": "text/x-python",
   "name": "python",
   "nbconvert_exporter": "python",
   "pygments_lexer": "ipython3",
   "version": "3.7.3"
  }
 },
 "nbformat": 4,
 "nbformat_minor": 4
}
